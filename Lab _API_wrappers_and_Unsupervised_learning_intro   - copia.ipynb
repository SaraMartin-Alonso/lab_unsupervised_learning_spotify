{
 "cells": [
  {
   "cell_type": "markdown",
   "metadata": {},
   "source": [
    "# API wrappers"
   ]
  },
  {
   "cell_type": "markdown",
   "metadata": {},
   "source": [
    "-- create a collection of songs with their audio features - as large as possible!\n",
    "\n",
    "1. These are the songs that we will cluster. \n",
    "2. And, later, when the user inputs a song, we will find the cluster to which the song belongs and recommend a song from the same cluster. \n",
    "\n",
    "-- you might want to make sure the collected songs are \"curated\" in a certain way. Try to find playlists of songs that are diverse, but also that meet certain standards.\n",
    "\n",
    "An idea for collecting as many songs as possible is \n",
    "1. to start with all the songs of a big, diverse playlist and \n",
    "2. then go to every artist present in the playlist and grab every song of every album of that artist. \n"
   ]
  },
  {
   "cell_type": "code",
   "execution_count": null,
   "metadata": {},
   "outputs": [],
   "source": [
    "import pandas as pd\n",
    "import numpy as np\n",
    "import warnings\n",
    "warnings.filterwarnings('ignore')\n",
    "warnings.filterwarnings(\"ignore\", message=\"numpy.ufunc size changed\")"
   ]
  },
  {
   "cell_type": "code",
   "execution_count": null,
   "metadata": {},
   "outputs": [],
   "source": [
    "# df_songs = pd.read_csv('df_songs.csv', encoding = 'utf8')\n",
    "# df_songs.drop(columns='Unnamed: 0', inplace=True) \n",
    "# df_songs = df_songs.drop_duplicates()"
   ]
  },
  {
   "cell_type": "code",
   "execution_count": null,
   "metadata": {},
   "outputs": [],
   "source": [
    "# https://www.kaggle.com/yamaerenay/spotify-dataset-19212020-160k-tracks?select=data_by_artist.csv\n",
    "df_songs  = pd.read_csv('data.csv', encoding = 'utf8')\n",
    "# df_songs.drop(columns='count', inplace=True) \n",
    "# df_songs.drop(columns='popularity', inplace=True) \n",
    "\n",
    "cols = ['name', 'artists','danceability', 'energy', 'key', 'loudness', 'mode', 'speechiness',\n",
    "       'acousticness', 'instrumentalness', 'liveness', 'valence', 'tempo',\n",
    "       'duration_ms']\n",
    "df_songs = df_songs[cols]\n",
    "df_songs = df_songs.rename(columns={\"name\": \"song\", \"artists\": \"artist\"})"
   ]
  },
  {
   "cell_type": "code",
   "execution_count": null,
   "metadata": {},
   "outputs": [],
   "source": [
    "df_songs.columns"
   ]
  },
  {
   "cell_type": "markdown",
   "metadata": {
    "heading_collapsed": true
   },
   "source": [
    "# Spotify work"
   ]
  },
  {
   "cell_type": "code",
   "execution_count": null,
   "metadata": {
    "hidden": true
   },
   "outputs": [],
   "source": [
    "from configSpoti import *\n",
    "import spotipy\n",
    "import json\n",
    "from spotipy.oauth2 import SpotifyClientCredentials\n",
    "\n",
    "\n",
    "#Initialize SpotiPy with user credentias\n",
    "sp = spotipy.Spotify(auth_manager=SpotifyClientCredentials(client_id= clientid,\n",
    "                                                           client_secret= clientsecret))"
   ]
  },
  {
   "cell_type": "code",
   "execution_count": null,
   "metadata": {
    "hidden": true
   },
   "outputs": [],
   "source": [
    "from time import sleep\n",
    "\n",
    "# get song features for all the songs\n",
    "def get_songs_features(dataframe):\n",
    "#     dataframe = dataframe[0:100]\n",
    "\n",
    "    for i in range(len(dataframe)):\n",
    "        print(i)\n",
    "        results = sp.search(q=i, limit=1)\n",
    "        results[\"tracks\"][\"items\"][0][\"uri\"]\n",
    "        \n",
    "#         wait_time = np.random.randint(1,3)\n",
    "#         print(\"I will sleep for \" + str(wait_time) + \" seconds.\")\n",
    "#         sleep(wait_time)\n",
    "\n",
    "        results = sp.audio_features(results[\"tracks\"][\"items\"][0][\"uri\"])\n",
    "    \n",
    "        for key in results[0]:\n",
    "            dataframe.loc[i, key] = results[0][key]\n",
    "                \n",
    "    return dataframe\n",
    "\n",
    "\n"
   ]
  },
  {
   "cell_type": "code",
   "execution_count": null,
   "metadata": {
    "hidden": true
   },
   "outputs": [],
   "source": [
    "df_songs = get_songs_features(df_songs)"
   ]
  },
  {
   "cell_type": "code",
   "execution_count": null,
   "metadata": {
    "hidden": true
   },
   "outputs": [],
   "source": [
    "df_songs"
   ]
  },
  {
   "cell_type": "code",
   "execution_count": null,
   "metadata": {
    "hidden": true
   },
   "outputs": [],
   "source": [
    "df_songs.to_csv('df_songs_featured.csv')"
   ]
  },
  {
   "cell_type": "code",
   "execution_count": null,
   "metadata": {
    "hidden": true
   },
   "outputs": [],
   "source": [
    "df_songs = df_songs[df_songs['song'].isna() == False]\n",
    "df_songs"
   ]
  },
  {
   "cell_type": "code",
   "execution_count": null,
   "metadata": {
    "hidden": true
   },
   "outputs": [],
   "source": [
    "df_songs = df_songs[df_songs['key'].isna() == False]\n",
    "df_songs"
   ]
  },
  {
   "cell_type": "code",
   "execution_count": null,
   "metadata": {
    "hidden": true
   },
   "outputs": [],
   "source": [
    "df_songs= df_songs.reset_index()\n",
    "df_songs"
   ]
  },
  {
   "cell_type": "markdown",
   "metadata": {
    "heading_collapsed": true
   },
   "source": [
    "# Unsupervised learning intro"
   ]
  },
  {
   "cell_type": "markdown",
   "metadata": {
    "hidden": true
   },
   "source": [
    "-- ultimate goal: to improve the recommendations of artists. \n",
    "-- Clustering the songs will allow the recommendation system to limit the scope of the recommendations to only songs that belong to the same cluster - songs with similar audio features.\n",
    "\n",
    "The experiments you did with the Spotify API and the Billboard web scraping will allow you to create a pipeline such that when the user enters a song, you:\n",
    "\n",
    "1. Check whether or not the song is in the Billboard Hot 200.\n",
    "2. Collect the audio features from the Spotify API.\n",
    "3. After that, you want to send the Spotify audio features of the submitted song to the clustering model, which should return a cluster number.\n",
    "\n",
    "We want to have as many songs as possible to create the clustering model, so we will add the songs you collected to a bigger dataset available on Kaggle containing 160 thousand songs."
   ]
  },
  {
   "cell_type": "markdown",
   "metadata": {
    "hidden": true
   },
   "source": [
    "## Collect the audio features from the Spotify API."
   ]
  },
  {
   "cell_type": "code",
   "execution_count": null,
   "metadata": {
    "hidden": true
   },
   "outputs": [],
   "source": [
    "df_songs.drop(columns='index', inplace=True) \n",
    "df_songs.drop(columns='analysis_url', inplace=True) \n",
    "df_songs.drop(columns='type', inplace=True)\n",
    "df_songs.drop(columns='track_href', inplace=True) \n"
   ]
  },
  {
   "cell_type": "code",
   "execution_count": null,
   "metadata": {
    "hidden": true
   },
   "outputs": [],
   "source": [
    "df_songs.drop(columns='id', inplace=True) \n",
    "df_songs.drop(columns='uri', inplace=True) "
   ]
  },
  {
   "cell_type": "code",
   "execution_count": null,
   "metadata": {
    "hidden": true
   },
   "outputs": [],
   "source": [
    "df_songs"
   ]
  },
  {
   "cell_type": "markdown",
   "metadata": {
    "hidden": true
   },
   "source": [
    "## Send the Spotify audio features of the submitted song to the clustering model, which should return a cluster number."
   ]
  },
  {
   "cell_type": "code",
   "execution_count": null,
   "metadata": {
    "hidden": true
   },
   "outputs": [],
   "source": [
    "import pandas as pd\n",
    "from sklearn import datasets\n",
    "from sklearn.preprocessing import StandardScaler\n",
    "from sklearn.cluster import KMeans\n",
    "from sklearn.metrics import silhouette_score"
   ]
  },
  {
   "cell_type": "code",
   "execution_count": null,
   "metadata": {
    "hidden": true
   },
   "outputs": [],
   "source": [
    "df_songs"
   ]
  },
  {
   "cell_type": "code",
   "execution_count": null,
   "metadata": {
    "hidden": true
   },
   "outputs": [],
   "source": [
    "df_songs.describe()"
   ]
  },
  {
   "cell_type": "code",
   "execution_count": null,
   "metadata": {
    "hidden": true
   },
   "outputs": [],
   "source": [
    "df_songs.dtypes"
   ]
  },
  {
   "cell_type": "code",
   "execution_count": null,
   "metadata": {
    "hidden": true
   },
   "outputs": [],
   "source": [
    "X = df_songs.select_dtypes('float64')"
   ]
  },
  {
   "cell_type": "code",
   "execution_count": null,
   "metadata": {
    "hidden": true
   },
   "outputs": [],
   "source": [
    "X_prep = df_songs.select_dtypes('float64')"
   ]
  },
  {
   "cell_type": "code",
   "execution_count": null,
   "metadata": {
    "hidden": true
   },
   "outputs": [],
   "source": [
    "X_prep"
   ]
  },
  {
   "cell_type": "code",
   "execution_count": null,
   "metadata": {
    "hidden": true
   },
   "outputs": [],
   "source": [
    "X_prep = StandardScaler().fit_transform(X_prep)"
   ]
  },
  {
   "cell_type": "code",
   "execution_count": null,
   "metadata": {
    "hidden": true
   },
   "outputs": [],
   "source": [
    "pd.DataFrame(X_prep, columns=X.columns).head()"
   ]
  },
  {
   "cell_type": "code",
   "execution_count": null,
   "metadata": {
    "hidden": true
   },
   "outputs": [],
   "source": [
    "# test model\n",
    "kmeans = KMeans(n_clusters=8, random_state=1234)\n",
    "kmeans.fit(X_prep)"
   ]
  },
  {
   "cell_type": "code",
   "execution_count": null,
   "metadata": {
    "hidden": true
   },
   "outputs": [],
   "source": [
    "# get the clusters and how many observations has each cluster.\n",
    "clusters = kmeans.predict(X_prep)\n",
    "pd.Series(clusters).value_counts().sort_index()"
   ]
  },
  {
   "cell_type": "code",
   "execution_count": null,
   "metadata": {
    "hidden": true
   },
   "outputs": [],
   "source": [
    "# checking in which group they are\n",
    "X_df = pd.DataFrame(X)\n",
    "X_df[\"cluster\"] = clusters\n",
    "X_df.head()"
   ]
  },
  {
   "cell_type": "code",
   "execution_count": null,
   "metadata": {
    "hidden": true
   },
   "outputs": [],
   "source": [
    "kmeans = KMeans(n_clusters=117,\n",
    "#                 init=\"random\",\n",
    "                n_init=30,  # try with 1, 4, 8, 20, 30, 100...\n",
    "                max_iter=2,\n",
    "                tol=0,\n",
    "                algorithm=\"full\",\n",
    "                random_state=1234)\n",
    "kmeans.fit(X_prep)\n",
    "print(kmeans.inertia_)"
   ]
  },
  {
   "cell_type": "code",
   "execution_count": null,
   "metadata": {
    "hidden": true
   },
   "outputs": [],
   "source": [
    "#  \"elbow method\" to choose the best K.\n",
    "K = range(2, 20)\n",
    "inertia = []\n",
    "\n",
    "for k in K:\n",
    "    kmeans = KMeans(n_clusters=k,\n",
    "                    random_state=1234)\n",
    "    kmeans.fit(X_prep)\n",
    "    inertia.append(kmeans.inertia_)\n",
    "\n",
    "import numpy as np\n",
    "import matplotlib.pyplot as plt\n",
    "%matplotlib inline\n",
    "\n",
    "plt.figure(figsize=(16,8))\n",
    "plt.plot(K, inertia, 'bx-')\n",
    "plt.xlabel('k')\n",
    "plt.ylabel('inertia')\n",
    "plt.xticks(np.arange(min(K), max(K)+1, 1.0))\n",
    "plt.title('Elbow Method showing the optimal k')"
   ]
  },
  {
   "cell_type": "code",
   "execution_count": null,
   "metadata": {
    "hidden": true
   },
   "outputs": [],
   "source": [
    "#silhouette\n",
    "K = range(2, 20)\n",
    "silhouette = []\n",
    "\n",
    "for k in K:\n",
    "    kmeans = KMeans(n_clusters=k,\n",
    "                    random_state=1234)\n",
    "    kmeans.fit(X_prep)\n",
    "    silhouette.append(silhouette_score(X_prep, kmeans.predict(X_prep)))\n",
    "\n",
    "\n",
    "plt.figure(figsize=(16,8))\n",
    "plt.plot(K, silhouette, 'bx-')\n",
    "plt.xlabel('k')\n",
    "plt.ylabel('silhouette score')\n",
    "plt.xticks(np.arange(min(K), max(K)+1, 1.0))\n",
    "plt.title('Silhouette Method showing the optimal k')\n",
    "\n",
    "#  the greater the separation between the clusters, In other words, the clusters will be more defined. (high peak)"
   ]
  },
  {
   "cell_type": "code",
   "execution_count": null,
   "metadata": {
    "hidden": true
   },
   "outputs": [],
   "source": [
    "kmeans = KMeans(n_clusters=17,\n",
    "#                 init=\"random\",\n",
    "                n_init=14,  # try with 1, 4, 8, 20, 30, 100...\n",
    "                max_iter=2,\n",
    "                tol=0,\n",
    "                algorithm=\"full\",\n",
    "                random_state=1234)\n",
    "kmeans.fit(X_prep)\n",
    "print(kmeans.inertia_)"
   ]
  },
  {
   "cell_type": "code",
   "execution_count": null,
   "metadata": {
    "hidden": true
   },
   "outputs": [],
   "source": [
    "df_songs"
   ]
  },
  {
   "cell_type": "markdown",
   "metadata": {},
   "source": [
    "# Getting the song"
   ]
  },
  {
   "cell_type": "code",
   "execution_count": null,
   "metadata": {},
   "outputs": [],
   "source": [
    "from sklearn.preprocessing import StandardScaler\n",
    "import pandas as pd\n",
    "from sklearn import datasets\n",
    "from sklearn.preprocessing import StandardScaler\n",
    "from sklearn.cluster import KMeans\n",
    "from sklearn.metrics import silhouette_score\n",
    "\n",
    "from configSpoti import *\n",
    "import spotipy\n",
    "import json\n",
    "from spotipy.oauth2 import SpotifyClientCredentials\n",
    "\n",
    "\n",
    "# Initialize SpotiPy with user credentias\n",
    "sp = spotipy.Spotify(auth_manager=SpotifyClientCredentials(client_id=clientid,\n",
    "                                                           client_secret=clientsecret))\n",
    "# transformer = StandardScaler().fit(data)\n",
    "# x_standardized=transformer.transform(data)\n",
    "\n",
    "# get song features for just one song\n",
    "\n",
    "\n",
    "def get_song_feature(track):\n",
    "    rslt_df = pd.DataFrame()\n",
    "\n",
    "    results = sp.search(q=track, limit=1)\n",
    "    results[\"tracks\"][\"items\"][0][\"uri\"]\n",
    "\n",
    "    results = sp.audio_features(results[\"tracks\"][\"items\"][0][\"uri\"])\n",
    "\n",
    "    for key in results[0]:\n",
    "        rslt_df.loc[0, key] = results[0][key]\n",
    "\n",
    "    return rslt_df\n",
    "\n",
    "\n",
    "def recommendator():\n",
    "    track = input('Input a song: ')\n",
    "#     track = 'Killer Queen'\n",
    "\n",
    "    X = df_songs.select_dtypes('float64')\n",
    "    X_prep = df_songs.select_dtypes('float64')\n",
    "\n",
    "    # standarizing\n",
    "    scaler = StandardScaler()\n",
    "    transformer = scaler.fit(X_prep)\n",
    "    X_prep = transformer.transform(X_prep)\n",
    "\n",
    "    # build into a dataframe\n",
    "    X_prep = pd.DataFrame(X_prep, columns=X.columns)\n",
    "\n",
    "    # performing K-means clustering on the songs database\n",
    "    kmeans = KMeans(n_clusters=19,\n",
    "                    #                 init=\"random\",\n",
    "                    n_init=30,  # try with 1, 4, 8, 20, 30, 100...\n",
    "                    max_iter=2,\n",
    "                    tol=0,\n",
    "                    algorithm=\"full\",\n",
    "                    random_state=1234)\n",
    "    kmeans.fit(X_prep)\n",
    "    clusters = kmeans.predict(X_prep)\n",
    "\n",
    "    # getting the clusters number\n",
    "    df_songs[\"cluster\"] = clusters\n",
    "\n",
    "    # if the song is in the database\n",
    "    if track in df_songs['song'].values:\n",
    "\n",
    "        # checking that it works\n",
    "        print()\n",
    "        print('\\033[1;31mYour song is hot! Here\\'s a new recommendation:\\033[0m')\n",
    "\n",
    "        # getting the index of the song\n",
    "        index = np.where(df_songs['song'].values == track)\n",
    "\n",
    "        # PENDING: OFFER CHOICES WHEN SAME NAME SONGS\n",
    "        index = int(index[0][0])\n",
    "\n",
    "        cluster_num = int(df_songs.loc[index]['cluster'])\n",
    "\n",
    "        # get a df with the songs in the same cluster\n",
    "        same_cluster_songs = pd.DataFrame(\n",
    "            df_songs[df_songs['cluster'] == cluster_num], columns=df_songs.columns)\n",
    "\n",
    "        # return a song\n",
    "        new_track = same_cluster_songs[same_cluster_songs['song'] != track].sample(\n",
    "        )\n",
    "        print()\n",
    "        print('***\\033[1m \\033[92m' + new_track['song'].to_string(index=False) +\n",
    "              ' by' + new_track['artist'].to_string(index=False) + '\\033[0m \\033[0m ***')\n",
    "\n",
    "    # if the song is not in the database\n",
    "    else:\n",
    "        print()\n",
    "        print('\\033[94mYour song was cold! Here\\'s a new recommendation:\\033[0m')\n",
    "\n",
    "        # get features\n",
    "        cold_song = get_song_feature(track)\n",
    "        cols = ['danceability', 'energy', 'loudness', 'speechiness', 'acousticness',\n",
    "                'instrumentalness', 'liveness', 'valence', 'tempo']\n",
    "        cold_song = cold_song[cols]\n",
    "        X_cold = cold_song.select_dtypes('float64')\n",
    "\n",
    "        # transform the data and clustering\n",
    "        X_cold = transformer.transform(X_cold)\n",
    "        clusters = kmeans.predict(X_cold)\n",
    "\n",
    "        # build into dataframe\n",
    "        X_cold = pd.DataFrame(X_cold, columns=X_prep.columns)\n",
    "\n",
    "        # get cluster\n",
    "        clusters = kmeans.predict(X_cold)\n",
    "        X_cold[\"cluster\"] = clusters\n",
    "        cluster_num = int(X_cold['cluster'])\n",
    "\n",
    "        # get a df with the songs in the same cluster\n",
    "        same_cluster_songs = pd.DataFrame(\n",
    "            df_songs[df_songs['cluster'] == cluster_num], columns=df_songs.columns)\n",
    "\n",
    "        # return a song\n",
    "        new_track = same_cluster_songs[same_cluster_songs['song'] != track].sample(\n",
    "        )\n",
    "        print()\n",
    "        print('***\\033[1m \\033[92m' + new_track['song'].to_string(index=False) +\n",
    "              ' by' + new_track['artist'].to_string(index=False) + '\\033[0m \\033[0m ***')"
   ]
  },
  {
   "cell_type": "code",
   "execution_count": null,
   "metadata": {},
   "outputs": [],
   "source": [
    "recommendator()"
   ]
  },
  {
   "cell_type": "code",
   "execution_count": null,
   "metadata": {},
   "outputs": [],
   "source": []
  }
 ],
 "metadata": {
  "kernelspec": {
   "display_name": "Python 3",
   "language": "python",
   "name": "python3"
  },
  "language_info": {
   "codemirror_mode": {
    "name": "ipython",
    "version": 3
   },
   "file_extension": ".py",
   "mimetype": "text/x-python",
   "name": "python",
   "nbconvert_exporter": "python",
   "pygments_lexer": "ipython3",
   "version": "3.8.5"
  },
  "toc": {
   "base_numbering": 1,
   "nav_menu": {},
   "number_sections": true,
   "sideBar": true,
   "skip_h1_title": false,
   "title_cell": "Table of Contents",
   "title_sidebar": "Contents",
   "toc_cell": false,
   "toc_position": {},
   "toc_section_display": true,
   "toc_window_display": false
  }
 },
 "nbformat": 4,
 "nbformat_minor": 4
}
